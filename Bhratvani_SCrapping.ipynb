{
 "cells": [
  {
   "cell_type": "code",
   "execution_count": 2,
   "metadata": {},
   "outputs": [
    {
     "name": "stdout",
     "output_type": "stream",
     "text": [
      "Bharatavani | Knowledge through Indian languages\n",
      "DISMISSED\n",
      "SearchDone\n",
      "['English-Kannada Nighantu (University of Mysore)\\nAbout this Dictionary | Browse this Dictionary\\nನಾಮವಾಚಕ ಪದಗುಚ್ಛ\\nತಗಡು; ಫಲಕ; ಹಲಗೆ.\\n(ಯಂತ್ರರಚನೆಯ) ತಗಡಿನ ಭಾಗ.\\n(ಕೆತ್ತನೆಗೆ ಉಪಯೋಗಿಸುವ) ನುಣುಪು ಮೇಲ್ಮೈಯ ಲೋಹ ಮೊದಲಾದವುಗಳ ತಗಡು; ಕೆತ್ತನೆಯ ಫಲಕ.\\nಕೆತ್ತನೆಯ ಫಲಕದಿಂದ ತೆಗೆದ ಮುದ್ರಣ.\\n=\\nbook-plate\\n.\\nಹೆಸರು ಹಲಗೆ; ನಾಮಫಲಕ; ಬಾಗಿಲು, ಪಾತ್ರೆ, ಮೊದಲಾದವುಗಳಿಗೆ ಹದ್ದಿಸುವುದಕ್ಕಾಗಿ ಹೆಸರು ಮೊದಲಾದವನ್ನು ಕೆತ್ತಿರುವ ತಗಡು:\\ndoor plate\\nಬಾಗಿಲು ಫಲಕ.\\nname-plate\\nನಾಮಫಲಕ.\\nಹೋಟೋಫಲಕ; ಬೆಳಕಿನ ಕಿರಣಗಳಿಗೆ ತೀವ್ರ ಪ್ರತಿಕ್ರಿಯೆ ತೋರುವಂಥ ರಾಸಾಯನಿಕಗಳನ್ನು ಲೇಪಿಸಿರುವ, ಛಾಯಾಚಿತ್ರೀಕರಣಕ್ಕೆ ಬಳಸುವ, ಲೋಹದ ಯಾ ಗಾಜಿನ ಫಲಕ.\\n(ತೀರುಗಳ ಯಾ ದೂಲಗಳ ಕೊನೆಗಳನ್ನು ಕೂರಿಸಲು ಗೋಡೆಯ ಮೇಲ್ಭಾಗದಲ್ಲಿ ಅದರ ಉದ್ದಕ್ಕೂ ಅಥವಾ ಚೌಕಟ್ಟಿನ ಮೇಲಾಗಲಿ ಕೆಳಗಾಗಲಿ ಹಾಕುವ) ಪಟ್ಟಡಿಮರ; ಹಾಸುಮರ; ಉತ್ತಾರ ಪಟ್ಟೆ:\\nroof plate\\nಚಾವಣಿ ಹಾಸುಮರ.\\nwall plate\\nಗೋಡೆ ಪಟ್ಟಡಿಮರ.\\nwindow plate\\nಕಿಟಕಿ ಹಾಸುಮರ.\\nಹಳೆಕಾಲದ ರೈಲುರಸ್ತೆ.\\n(ಬ್ರಿಟಿಷ್\\u200d ಪ್ರಯೋಗ) (ಸಮೂಹವಾಚಕ ಏಕವಚನ)\\n(ಚಿನ್ನ, ಬೆಳ್ಳಿ ಯಾ ಇತರ ಲೋಹದಿಂದ ಮಾಡಿದ) ಪಾತ್ರೆಪರಡಿ; ಊಟದ ಮತ್ತು ಮನೆಯ ಬಳಕೆಯ ಪಾತ್ರೆಗಳು.\\nವಿದ್ಯುಲ್ಲೇಪನ ಮಾಡಿದ ವಸ್ತುಗಳು:\\npewter plate\\nಪ್ಯೂಟರ್\\u200d ಪಾತ್ರೆ ಪದಾರ್ಥಗಳು (ತಟ್ಟೆ, ಬಟ್ಟಲು, ಮೊದಲಾದವು).\\n(ಕುದುರೆಯ) ಜೂಜಿನಲ್ಲಿ ಗೆದ್ದವರಿಗೆ ಬಹುಮಾನವಾಗಿ ಕೊಡುತ್ತಿದ್ದ ಬೆಳ್ಳಿಯ ಯಾ ಚಿನ್ನದ ಬಟ್ಟಲು; ಬಹುಮಾನದ ಬಟ್ಟಲು.\\nಇಂಥ ಬಹುಮಾನ ಕೊಡುವ ಜೂಜು, ಪಂದ್ಯ.\\n(ಈಗ ಸಾಮಾನ್ಯವಾಗಿ ದುಂಡಗಿರುವ ಮಣ್ಣಿನ ಯಾ ಪಿಂಗಾಣಿಯ) ಊಟದ ತಟ್ಟೆ, ತಾಟು, ಗಂಗಳ, ತಳಿಗೆ:\\ndinner plate\\nಊಟದ ತಟ್ಟೆ.\\nತಟ್ಟೆ ತುಂಬಾ; (ಒಂದು ಗೊತ್ತಾದ ಅಳತೆಯ) ತಟ್ಟೆಯೊಳಗಿನ ಆಹಾರಪದಾರ್ಥ:\\na plate of fruits\\nತಟ್ಟೆ(ತುಂಬಾ) ಹಣ್ಣುಗಳು.\\n(ಚರ್ಚು ಮೊದಲಾದ ಕಡೆಯಲ್ಲಿ) ದಕ್ಷಿಣೆ ತಟ್ಟೆ; ಧರ್ಮದ (ದುಡ್ಡೆತ್ತುವ, ಸಾಮಾನ್ಯವಾಗಿ ಲೋಹದ ಯಾ ಮರದ) ತಟ್ಟೆ:\\nput a rupee in the plate\\nಧರ್ಮದ ತಟ್ಟೆಗೆ ಒಂದು ರೂಪಾಯಿ ಹಾಕು.\\n(ಜೂಜುಕುದುರೆಗೆ ಹಾಕುವ) ಹಗುರ ಲಾಳ.\\n(ಭೂವಿಜ್ಞಾನ) ಭೂಕವಚದ ಪದರ; ಭೂಮಿಯ ಹೊರಚಿಪ್ಪನ್ನು ರೂಪಿಸಿರುವುದಾಗಿ ಭಾವಿಸಿರುವ ಅನೇಕ ಗಟ್ಟಿ ಪದರಗಳಲ್ಲಿ ಒಂದು.\\n(ಜೀವವಿಜ್ಞಾನ) ಜೈವಿಕ ಪದಾರ್ಥದ ತೆಳುಚಪ್ಪಟೆ ರಚನೆ, ಹಾಳೆ.\\nಮುದ್ರಣಫಲಕ; ಅಚ್ಚು ತಗಡು; ಮುದ್ರಣದ ಪ್ಲೇಟು.\\n(ಅಮೆರಿಕನ್\\u200d ಪ್ರಯೋಗ) (ಬೇಸ್\\u200dಬಾಲ್\\u200d ಆಟ) ದಾಂಡುಗಾರನ ಯಾ ಚೆಂಡೆಸೆಯುವವನ ಜಾಗವನ್ನು ಗುರುತಿಸುವ, ಬಿಳಿರಬ್ಬರಿನ ಚಪ್ಪಟೆತುಂಡು.\\n(ಅಮೆರಿಕನ್\\u200d ಪ್ರಯೋಗ) ಉಷ್ಣ ಅಯಾನಿಕ ಕವಾಟದ ಆನೋಡು.\\nಪುಸ್ತಕದಲ್ಲಿ ವಿಶೇಷ ಕಾಗದದ ಮೇಲೆ ಮುದ್ರಿಸಿರುವ ಚಿತ್ರ.\\n(ಆಡುಮಾತು) ಕೃತಕ ದಂತಪಂಕ್ತಿ.\\nಹಲ್ಲುಕುಂದಣ; ಕೃತಕ ಹಲ್ಲುಗಳನ್ನು ಕೂರಿಸಬಹುದಾದ, ಬಾಯಿ ಮತ್ತು ಒಸಡುಗಳ ಆಕಾರದಲ್ಲಿ ಪ್ಲಾಸ್ಟಿಕ್\\u200d ಮೊದಲಾದ ಪದಾರ್ಥಗಳಿಂದ ರೂಪಿಸಿರುವ ಕೃತಕ ಕಟ್ಟಡ, ರಚನೆ.\\nಮೋಟಾರು ವಾಹನದ ಸಂಖ್ಯಾಫಲಕ.\\n(ಆಸ್ಟ್ರೇಲಿಯ ಮತ್ತು ನ್ಯೂಸಿಲೆಂಡ್\\u200d) ಸಂತೋಷ ಕೂಟದಲ್ಲಿ ಭಾಗವಹಿಸುವವನು ಕೊಡುವ ಕೇಕು, ಸ್ಯಾಂಡ್\\u200dವಿಚ್\\u200d, ಮೊದಲಾದವುಗಳ ಕೊಡುಗೆ.\\nKannada', 'English-Kannada Nighantu (University of Mysore)\\nAbout this Dictionary | Browse this Dictionary\\nಸಕರ್ಮಕ ಕ್ರಿಯಾಪದ\\n(ರಕ್ಷಣೆ, ಅಲಂಕಾರ, ಮೊದಲಾದವುಕ್ಕಾಗಿ, ಮುಖ್ಯವಾಗಿ ಹಡಗಿಗೆ) ಲೋಹದ ತಗಡು ಹದ್ದಿಸು.\\n(ಮತ್ತೊಂದು ಲೋಹಕ್ಕೆ ಚಿನ್ನ, ಬೆಳ್ಳಿ ಯಾ ತವರದ) ಲೇಪಕೊಡು; ಮುಲಾಮು ಮಾಡು.\\n(ಅಚ್ಚುಮೊಳೆಗಳ) ಮುದ್ರಣಫಲಕವನ್ನು ತಯಾರಿಸು.\\nKannada', 'Glossary of Zoology (English-Odia)\\nAbout this Dictionary | Browse this Dictionary\\nପଟିକା\\nOdia', 'Common Medical Terms and Phrases (English-Tamil-Hindi) (CSTT)\\nAbout this Dictionary | Browse this Dictionary\\nதட்டு\\nपट्ट / प्लेट\\nTamil, Hindi', 'Krishi Rasayanashastra Paribhashika Shabdakosha (English - Kannada) (UAS-B)\\nAbout this Dictionary | Browse this Dictionary\\nಫಲಕ.\\nKannada', 'English-Ao Bilingual Dictionary (CIIL)\\nAbout this Dictionary | Browse this Dictionary\\nn.\\n– Merang tematsük ka; so; auso\\nAo', 'Physics : A Fundamental Glossary (English-Hindi) (CSTT)\\nAbout this Dictionary | Browse this Dictionary\\n1. पट्टिका 2. आधार पट्टिका 3. प्लेट 4. ऐनोड\\nHindi', 'Space Science Glossary (English-Hindi) (CSTT)\\nAbout this Dictionary | Browse this Dictionary\\nपट्टिका, प्लेट\\nHindi', 'English-Angami Bilingual Dictionary (CIIL)\\nAbout this Dictionary | Browse this Dictionary\\nn.\\nmekhou ; mirhi\\nAngami', 'Glossary of Geography (English-Hindi)\\nAbout this Dictionary | Browse this Dictionary\\n1. पट्टिका 2. आधार पट्टिका 3. प्लेट 4 ऐनोड\\nHindi', 'Glossary of General Geology Terms (English-Hindi) (CSTT)\\nAbout this Dictionary | Browse this Dictionary\\n1. पट्टिका 2. आधार पट्टिका 3. प्लेट 4. ऐनोड\\nHindi', 'Glossary of Applied Geology Terms (English-Hindi) (CSTT)\\nAbout this Dictionary | Browse this Dictionary\\n1. पट्टिका 2. आधार पट्टिका 3. प्लेट 4. ऐनोड\\nHindi', 'Glossary of Chemical Engineering (English-Hindi) (CSTT)\\nAbout this Dictionary | Browse this Dictionary\\nप्लेट\\nHindi', 'Glossary of Physics (English-Hindi) (CSTT)\\nAbout this Dictionary | Browse this Dictionary\\n1. पट्टिका 2. आधार पट्टिका 3. प्लेट 4. ऐनोड\\nHindi', 'Definitional Dictionary of Electrical Engineering (English-Hindi) (CSTT)\\nAbout this Dictionary | Browse this Dictionary\\n1. पट्टिका 2. आधार पट्टिका 3. प्लेट 4. ऐनोड\\nHindi', 'Glossary of Mining And Geology (English-Hindi) (CSTT)\\nAbout this Dictionary | Browse this Dictionary\\nप्लेट\\nHindi', 'Glossary Of Home Science (English-Hindi) (CSTT)\\nAbout this Dictionary | Browse this Dictionary\\n1. पट्टिका 2. आधार पट्टिका 3. प्लेट 4. ऐनोड\\nHindi', 'English-Punjabi Dictionary\\nAbout this Dictionary | Browse this Dictionary\\nਧਾਤ ਦੀ ਪੱਤਰੀ,ਤਸ਼ਤਰੀ, ਇਕ ਘਰੇਲੂ ਭਾਂਡਾ\\nPunjabi', 'Maanachitravijnan Paribhasha Kosh (English-Hindi) (CSTT)\\nAbout this Dictionary | Browse this Dictionary\\nप्लेट\\n(क) धातु की वह प्लेट जिससे मानचित्र छापा जाता है ।\\n(ख) रंगीन मानचित्र जो उत्तरोत्तर अनेक प्लेटों से छपता है ।\\n(ग) प्रत्येक मूलारेख का निगेटव भी प्लेट कहलाती है ।\\nHindi', 'Glossary of Technical Terms : Physics (Farhang-e-Istalahat : Physics) (NCPUL)\\nAbout this Dictionary | Browse this Dictionary\\nپلیٹ مجموعہ\\nUrdu', 'Kumbarike Vrutti Padakosha (English-Kannada-Kannada)(KASAPA)\\nAbout this Dictionary | Browse this Dictionary\\n(n)\\nA shallow dish, covering plate.\\nತಟ್ಟೆ, ಬಟ್ಟಲು, ಮುಚ್ಚಳ ಮಣ್ಣು ಅಥವಾ ಪಿಂಗಾಣಿಯ ಊಟದ ತಟ್ಟೆ.\\nKannada', 'Comprehensive Glossary of Technical Terms (Medical Science) (English-Hindi) (CSTT)\\nAbout this Dictionary | Browse this Dictionary\\n1. पट्ट 2. पट्टिका 3. प्लेट\\nHindi', 'Medical Sciences : A Fundamental Glossary (English-Hindi) (CSTT)\\nAbout this Dictionary | Browse this Dictionary\\n1. पट्ट 2. पट्टिका 3. प्लेट\\nHindi', 'Consolidated Defense Glossary (English-Hindi) (CSTT)\\nAbout this Dictionary | Browse this Dictionary\\nप्लेट\\nHindi']\n"
     ]
    }
   ],
   "source": [
    "from selenium import webdriver\n",
    "from selenium.webdriver.common.by import By\n",
    "from time import sleep\n",
    "# The place we will direct our WebDriver to\n",
    "#url = 'http://www.srcmake.com/'\n",
    "# Creating the WebDriver object using the ChromeDriver\n",
    "driver = webdriver.Firefox()\n",
    "def directing_to_URL():\n",
    "    #try:\n",
    "# Directing the driver to the defined url\n",
    "        driver.get(url)\n",
    "        print(driver.title)\n",
    "        sleep(10)\n",
    "        Alert = driver.find_element_by_xpath('/html/body/div[1]/button/span')\n",
    "        Alert.click()\n",
    "        print(\"DISMISSED\")\n",
    "        Clickdict = driver.find_element_by_xpath('//*[@id=\"dictionary-label\"]')\n",
    "        Clickdict.click()\n",
    "        search_bar=driver.find_element_by_xpath('//*[@id=\"kannada_text\"]')\n",
    "        query=\"plate\"\n",
    "        search_bar.send_keys(query)\n",
    "        search_click = driver.find_element_by_xpath('/html/body/section[3]/div/div/div[2]/div/div[7]/div/section/form/div/div[2]/button')\n",
    "        search_click.click()\n",
    "        print(\"SearchDone\")\n",
    "        sleep(5)\n",
    "        meaning_elements = driver.find_elements_by_class_name(\"result\")\n",
    "        mng = [x.text for x in meaning_elements]\n",
    "        print(mng)\n",
    "        \n",
    "    #search_bar=driver.find_element_by_xpath('/html/body/section[3]/div/div/div[2]/div/div[7]/div/section/form/div/div[1]/input')\n",
    "    #query=\"plate\"\n",
    "    #search_bar.send_keys(\"query\")\n",
    "    #print(\"SearchDone\")\n",
    "    #except :\n",
    "       \n",
    "#search=driver.find_element_by_xpath('/html/body/section[3]/div/div/div[2]/div/div[7]/div/section/form/div/div[2]/button')\n",
    "url=\"https://bharatavani.in/\"\n",
    "\n",
    "directing_to_URL()"
   ]
  },
  {
   "cell_type": "code",
   "execution_count": null,
   "metadata": {},
   "outputs": [],
   "source": [
    " except :\n",
    "        Alert = driver.find_element_by_xpath('/html/body/div[1]/button')\n",
    "        Alert.click()\n",
    "        print(\"DISMISSED\")"
   ]
  }
 ],
 "metadata": {
  "kernelspec": {
   "display_name": "Python 3",
   "language": "python",
   "name": "python3"
  },
  "language_info": {
   "codemirror_mode": {
    "name": "ipython",
    "version": 3
   },
   "file_extension": ".py",
   "mimetype": "text/x-python",
   "name": "python",
   "nbconvert_exporter": "python",
   "pygments_lexer": "ipython3",
   "version": "3.6.8"
  }
 },
 "nbformat": 4,
 "nbformat_minor": 2
}
